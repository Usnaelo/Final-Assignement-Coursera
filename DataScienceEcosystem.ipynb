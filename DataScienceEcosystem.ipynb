{
 "cells": [
  {
   "cell_type": "markdown",
   "metadata": {
    "tags": []
   },
   "source": [
    "<center>\n",
    "    <img src=\"https://cf-courses-data.s3.us.cloud-object-storage.appdomain.cloud/IBMDeveloperSkillsNetwork-DS0105EN-SkillsNetwork/labs/Module2/images/SN_web_lightmode.png\" width=\"300\" alt=\"cognitiveclass.ai logo\">\n",
    "</center>\n"
   ]
  },
  {
   "cell_type": "markdown",
   "metadata": {
    "tags": []
   },
   "source": [
    "#### Add your code below following the instructions given in the course\n"
   ]
  },
  {
   "cell_type": "markdown",
   "metadata": {},
   "source": [
    "# Data Science Tools and Ecosystem"
   ]
  },
  {
   "cell_type": "markdown",
   "metadata": {
    "tags": []
   },
   "source": [
    "## Project Title : \"Final Assignement for Tools in Data Science\"\n",
    "### Dorcelant at Jupyter Lab, June 2023"
   ]
  },
  {
   "cell_type": "markdown",
   "metadata": {
    "tags": []
   },
   "source": [
    "##### Introduction :This work is destined to be the final assignment realized by Dorcelant after the following of the course named : \"Tools for Data Science\", A lot of knowledge have been acquired,Data Science Tools are really multiple and all seems to accomplish the same task with some nuances, the esssential point is to minimize your mastering of some while maintaining a good knowledge of the others."
   ]
  },
  {
   "cell_type": "markdown",
   "metadata": {},
   "source": [
    "__Objectives :__\n",
    "\n",
    "- List of Data Science Languages\n",
    "- List of Data Science Librairies\n",
    "- Table of Data Science Tools\n",
    "- Arithmetic Expression\n",
    "- Basics of coding"
   ]
  },
  {
   "cell_type": "markdown",
   "metadata": {},
   "source": [
    "Data Science Languages : \n",
    "1. Python\n",
    "2. R \n",
    "3. SQL\n",
    "4. Java\n",
    "5. Scala\n",
    "6. Javascript \n",
    "7. Julia \n",
    "8. Swift \n",
    "9. C"
   ]
  },
  {
   "cell_type": "markdown",
   "metadata": {
    "tags": []
   },
   "source": [
    "Data Science Librairies : \n",
    "1. Pandas\n",
    "2. Numpy\n",
    "3. Matplotlib \n",
    "4. GGplot \n",
    "5. MLflow \n",
    "6. Scipy\n",
    "7. Keras\n",
    "8. Pytorch"
   ]
  },
  {
   "cell_type": "markdown",
   "metadata": {
    "tags": []
   },
   "source": [
    "###### ___*acronyms are defining below___\n",
    "\n",
    "|Data Science Tools :|| | | | | | |\n",
    "|---|---|---|----|----|----|----|----|\n",
    "|DM|DIT|DV|MDe|MDo|CAM|DAM|DE|\n",
    "|MySQL,PostgreSQL, MongoDB, Apache Cassandra, IBM Db2|Apache Air Flow, Apache Nifi, Talend, Watson Studion Desktop, NodeRED|Pixie Dust, Kibana, Apache Superset, Datameer, IBM's Congos BI|Tensorflow Lite, Apache Prediction, SPSS Modeler, Mleap|Promotheus, ModelIDB, IBM AI 30,|Git, GitHUb, GitLab|Apache Atlas, Informatica, ODPi, Kylo|Jupyter Notebooks, Rstudio, Visual Basic|\n",
    "\n",
    "###### ___*DM :Data Management, DIT :Data Integration and Transformation, DV :Data Vizualisation, MDe: Model Deployment, MDo: Model Monitoring, CAM : Code Asset Management, DAM:Data Asset Management, DE:Development Environment___  "
   ]
  },
  {
   "cell_type": "markdown",
   "metadata": {},
   "source": [
    "### Arithmetic expressions :\n",
    "1. 4+5\n",
    "2. a = 3+9\n",
    "3. b = 11-7\n",
    "4. c = 2023-2020\n",
    "5. w = 2b-7n+4v"
   ]
  },
  {
   "cell_type": "code",
   "execution_count": 3,
   "metadata": {
    "tags": []
   },
   "outputs": [
    {
     "name": "stdout",
     "output_type": "stream",
     "text": [
      "17\n"
     ]
    }
   ],
   "source": [
    "#Use the print function in python with his built in calculator to add and multiply number\n",
    "#Add the operation in the function print \n",
    "\n",
    "print((3*4)+5)\n",
    "\n",
    "#press run to execute the result\n",
    "#program finished\n"
   ]
  },
  {
   "cell_type": "code",
   "execution_count": 1,
   "metadata": {
    "tags": []
   },
   "outputs": [
    {
     "name": "stdin",
     "output_type": "stream",
     "text": [
      "Enter here the numbers of minutes 200\n"
     ]
    },
    {
     "name": "stdout",
     "output_type": "stream",
     "text": [
      "The conversion result is 3.3333333333333335 hours or 3 hours 20 minutes\n"
     ]
    }
   ],
   "source": [
    "#This will convert 200 minutes to hours by diving by 60\n",
    "\n",
    "v=input(\"Enter here the numbers of minutes\",);v=int(v); h=(v/60) ; n=v//60; r=v-(n*60)\n",
    "\n",
    "print(\"The conversion result is\",h,\"hours or\",n,\"hours\",r,\"minutes\")"
   ]
  },
  {
   "cell_type": "markdown",
   "metadata": {},
   "source": [
    "## Author \n",
    "\n",
    "Dorcelant Usnaelo"
   ]
  }
 ],
 "metadata": {
  "kernelspec": {
   "display_name": "Python",
   "language": "python",
   "name": "conda-env-python-py"
  },
  "language_info": {
   "codemirror_mode": {
    "name": "ipython",
    "version": 3
   },
   "file_extension": ".py",
   "mimetype": "text/x-python",
   "name": "python",
   "nbconvert_exporter": "python",
   "pygments_lexer": "ipython3",
   "version": "3.7.12"
  }
 },
 "nbformat": 4,
 "nbformat_minor": 4
}
